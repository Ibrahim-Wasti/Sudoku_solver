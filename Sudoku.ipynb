{
 "cells": [
  {
   "cell_type": "code",
   "execution_count": 1,
   "metadata": {},
   "outputs": [
    {
     "name": "stdout",
     "output_type": "stream",
     "text": [
      "[[1 6 2 8 5 7 4 9 3]\n",
      " [5 3 4 1 2 9 6 7 8]\n",
      " [7 8 9 6 4 3 5 2 1]\n",
      " [4 7 5 3 1 2 9 8 6]\n",
      " [9 1 3 5 8 6 7 4 2]\n",
      " [6 2 8 7 9 4 1 3 5]\n",
      " [3 5 6 4 7 8 2 1 9]\n",
      " [2 4 1 9 3 5 8 6 7]\n",
      " [8 9 7 2 6 1 3 5 4]]\n",
      "Solve again?\n"
     ]
    }
   ],
   "source": [
    "import numpy as np\n",
    "puzzle = [[1,0,0,0,0,7,0,9,0],\n",
    "          [0,3,0,0,2,0,0,0,8],\n",
    "          [0,0,9,6,0,0,5,0,0],\n",
    "          [0,0,5,3,0,0,9,0,0],\n",
    "          [0,1,0,0,8,0,0,0,2],\n",
    "          [6,0,0,0,0,4,0,0,0],\n",
    "          [3,0,0,0,0,0,0,1,0],\n",
    "          [0,4,0,0,0,0,0,0,7],\n",
    "          [0,0,7,0,0,0,3,0,0]]\n",
    "def tries(r,c,t):\n",
    "  global puzzle\n",
    "  for i in range(9): #check row\n",
    "    if puzzle[r][i] == t:\n",
    "      return False\n",
    "  for i in range(9): #check column\n",
    "    if puzzle[i][c] == t:\n",
    "      return False\n",
    "  #check 3x3 box\n",
    "  box_r = (r//3)*3\n",
    "  box_c = (c//3)*3\n",
    "  for i in range(0,3):\n",
    "    for j in range(0,3):\n",
    "      if puzzle[box_r +i][box_c + j] == t:\n",
    "        return False\n",
    "  return True\n",
    "def solver():\n",
    "  global puzzle\n",
    "  for r in range(9):\n",
    "    for c in range(9):\n",
    "      if puzzle[r][c] == 0:\n",
    "        for t in range(1,10):\n",
    "          if tries(r,c,t) == True:\n",
    "            puzzle[r][c] = t\n",
    "            solver()\n",
    "            puzzle[r][c] = 0\n",
    "        return \n",
    "  print(np.array(puzzle))\n",
    "  input('Solve again?')\n",
    "solver()"
   ]
  },
  {
   "cell_type": "code",
   "execution_count": 2,
   "metadata": {},
   "outputs": [
    {
     "name": "stdout",
     "output_type": "stream",
     "text": [
      "0.35819620000000185\n",
      "0.35819620000000185\n"
     ]
    }
   ],
   "source": [
    "import timeit\n",
    "time_code = \"\"\"\n",
    "#input code here\n",
    "#global keying ruins time test, comment out global keys in function if possible\n",
    "import numpy as np\n",
    "puzzle = [[1,0,0,0,0,7,0,9,0],\n",
    "          [0,3,0,0,2,0,0,0,8],\n",
    "          [0,0,9,6,0,0,5,0,0],\n",
    "          [0,0,5,3,0,0,9,0,0],\n",
    "          [0,1,0,0,8,0,0,0,2],\n",
    "          [6,0,0,0,0,4,0,0,0],\n",
    "          [3,0,0,0,0,0,0,1,0],\n",
    "          [0,4,0,0,0,0,0,0,7],\n",
    "          [0,0,7,0,0,0,3,0,0]]\n",
    "def tries(r,c,t):\n",
    "  #global puzzle\n",
    "  for i in range(9): #check row\n",
    "    if puzzle[r][i] == t:\n",
    "      return False\n",
    "  for i in range(9): #check column\n",
    "    if puzzle[i][c] == t:\n",
    "      return False\n",
    "  #check 3x3 box\n",
    "  box_r = (r//3)*3\n",
    "  box_c = (c//3)*3\n",
    "  for i in range(0,3):\n",
    "    for j in range(0,3):\n",
    "      if puzzle[box_r +i][box_c + j] == t:\n",
    "        return False\n",
    "  return True\n",
    "def solver():\n",
    "  #global puzzle\n",
    "  for r in range(9):\n",
    "    for c in range(9):\n",
    "      if puzzle[r][c] == 0:\n",
    "        for t in range(1,10):\n",
    "          if tries(r,c,t) == True:\n",
    "            puzzle[r][c] = t\n",
    "            solver()\n",
    "            puzzle[r][c] = 0\n",
    "        return \n",
    "  #for row in puzzle:\n",
    "    #print(row)\n",
    "  #print(np.array(puzzle))\n",
    "  #input('Solve again?')\n",
    "solver()\n",
    "\"\"\"\n",
    "elapsed_time = timeit.timeit(time_code,number=1)\n",
    "print(elapsed_time)\n",
    "print((elapsed_time)/1)"
   ]
  },
  {
   "cell_type": "code",
   "execution_count": null,
   "metadata": {},
   "outputs": [],
   "source": []
  }
 ],
 "metadata": {
  "kernelspec": {
   "display_name": "Python 3",
   "language": "python",
   "name": "python3"
  },
  "language_info": {
   "codemirror_mode": {
    "name": "ipython",
    "version": 3
   },
   "file_extension": ".py",
   "mimetype": "text/x-python",
   "name": "python",
   "nbconvert_exporter": "python",
   "pygments_lexer": "ipython3",
   "version": "3.8.3"
  }
 },
 "nbformat": 4,
 "nbformat_minor": 4
}
